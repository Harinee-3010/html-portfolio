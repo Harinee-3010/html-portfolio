{
  "nbformat": 4,
  "nbformat_minor": 0,
  "metadata": {
    "colab": {
      "provenance": [],
      "authorship_tag": "ABX9TyOney714NG2VaGQdjUNEuiF",
      "include_colab_link": true
    },
    "kernelspec": {
      "name": "python3",
      "display_name": "Python 3"
    },
    "language_info": {
      "name": "python"
    }
  },
  "cells": [
    {
      "cell_type": "markdown",
      "metadata": {
        "id": "view-in-github",
        "colab_type": "text"
      },
      "source": [
        "<a href=\"https://colab.research.google.com/github/Harinee-3010/html-portfolio/blob/main/productreview.ipynb\" target=\"_parent\"><img src=\"https://colab.research.google.com/assets/colab-badge.svg\" alt=\"Open In Colab\"/></a>"
      ]
    },
    {
      "cell_type": "code",
      "execution_count": null,
      "metadata": {
        "id": "aVbqJVihDBJy"
      },
      "outputs": [],
      "source": [
        "!pip install transformers sentencepiece"
      ]
    },
    {
      "cell_type": "code",
      "source": [
        "from transformers import pipeline\n",
        "\n",
        "generator = pipeline(\"text2text-generation\", model=\"google/flan-t5-large\")\n",
        "\n",
        "product_review = \"\"\"\n",
        "I recently bought the Bluetooth speaker, and the sound quality is fantastic. The battery life lasts more than 12 hours on a single charge. However, the Bluetooth connection drops occasionally, and it takes time to reconnect.\n",
        "\"\"\"\n",
        "\n",
        "prompt = f\"Extract cons(only) from the following product review:\\n\\n{product_review}\"\n",
        "\n",
        "result = generator(prompt, max_length=150, clean_up_tokenization_spaces=True)[0]['generated_text']\n",
        "\n",
        "print(\"=== Pros and Cons Extracted ===\")\n",
        "print(result)"
      ],
      "metadata": {
        "colab": {
          "base_uri": "https://localhost:8080/"
        },
        "id": "jFBtJ_0sDEAd",
        "outputId": "9bd94bac-c7bc-48e9-d376-a221e812e742"
      },
      "execution_count": 6,
      "outputs": [
        {
          "output_type": "stream",
          "name": "stderr",
          "text": [
            "Device set to use cpu\n",
            "Both `max_new_tokens` (=256) and `max_length`(=150) seem to have been set. `max_new_tokens` will take precedence. Please refer to the documentation for more information. (https://huggingface.co/docs/transformers/main/en/main_classes/text_generation)\n"
          ]
        },
        {
          "output_type": "stream",
          "name": "stdout",
          "text": [
            "=== Pros and Cons Extracted ===\n",
            "The battery life lasts more than 12 hours on a single charge. However, the Bluetooth connection drops occasionally, and it takes time to reconnect.\n"
          ]
        }
      ]
    },
    {
      "cell_type": "code",
      "source": [],
      "metadata": {
        "id": "N2DtZZsfLEIt"
      },
      "execution_count": null,
      "outputs": []
    }
  ]
}