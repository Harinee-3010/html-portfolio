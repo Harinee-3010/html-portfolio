{
  "nbformat": 4,
  "nbformat_minor": 0,
  "metadata": {
    "colab": {
      "provenance": [],
      "authorship_tag": "ABX9TyMFNFB38ldyf9PtdldpRG37",
      "include_colab_link": true
    },
    "kernelspec": {
      "name": "python3",
      "display_name": "Python 3"
    },
    "language_info": {
      "name": "python"
    }
  },
  "cells": [
    {
      "cell_type": "markdown",
      "metadata": {
        "id": "view-in-github",
        "colab_type": "text"
      },
      "source": [
        "<a href=\"https://colab.research.google.com/github/Harinee-3010/html-portfolio/blob/main/txt2txt.ipynb\" target=\"_parent\"><img src=\"https://colab.research.google.com/assets/colab-badge.svg\" alt=\"Open In Colab\"/></a>"
      ]
    },
    {
      "cell_type": "code",
      "execution_count": 2,
      "metadata": {
        "colab": {
          "base_uri": "https://localhost:8080/"
        },
        "id": "fC-uSvKE2hgY",
        "outputId": "06011b25-40a3-444f-e1d5-9f91a94d74dc"
      },
      "outputs": [
        {
          "output_type": "stream",
          "name": "stderr",
          "text": [
            "Device set to use cpu\n",
            "Both `max_new_tokens` (=256) and `max_length`(=50) seem to have been set. `max_new_tokens` will take precedence. Please refer to the documentation for more information. (https://huggingface.co/docs/transformers/main/en/main_classes/text_generation)\n"
          ]
        },
        {
          "output_type": "stream",
          "name": "stdout",
          "text": [
            "Input: translate English to Tamil: How are you today?\n",
            "Output: Wie sind Sie heute?\n"
          ]
        }
      ],
      "source": [
        "# Install the necessary libraries (if not already installed)\n",
        "!pip install transformers sentencepiece --quiet\n",
        "\n",
        "# Import required libraries\n",
        "from transformers import pipeline\n",
        "\n",
        "# Load the text2text-generation pipeline using T5 model\n",
        "generator = pipeline(\"text2text-generation\", model=\"t5-small\")\n",
        "\n",
        "# Input text (you can modify this to suit your needs)\n",
        "input_text = \"translate English to Tamil: How are you today?\"\n",
        "\n",
        "# Generate output\n",
        "output = generator(input_text, max_length=50, clean_up_tokenization_spaces=True)\n",
        "\n",
        "# Print result\n",
        "print(\"Input:\", input_text)\n",
        "print(\"Output:\", output[0]['generated_text'])\n"
      ]
    },
    {
      "cell_type": "code",
      "source": [
        "input_text = \"translate English to French: I am Hainee\"\n",
        "\n",
        "# Generate output\n",
        "output = generator(input_text, max_length=50, clean_up_tokenization_spaces=True)\n",
        "\n",
        "# Print result\n",
        "print(\"Input:\", input_text)\n",
        "print(\"Output:\", output[0]['generated_text'])\n"
      ],
      "metadata": {
        "colab": {
          "base_uri": "https://localhost:8080/"
        },
        "id": "VoXGqsMk2iy-",
        "outputId": "cc7c1447-2b3f-45c7-f817-2dc937dac9aa"
      },
      "execution_count": 4,
      "outputs": [
        {
          "output_type": "stream",
          "name": "stderr",
          "text": [
            "Both `max_new_tokens` (=256) and `max_length`(=50) seem to have been set. `max_new_tokens` will take precedence. Please refer to the documentation for more information. (https://huggingface.co/docs/transformers/main/en/main_classes/text_generation)\n"
          ]
        },
        {
          "output_type": "stream",
          "name": "stdout",
          "text": [
            "Input: translate English to French: I am Hainee\n",
            "Output: Je suis Hainee\n"
          ]
        }
      ]
    },
    {
      "cell_type": "code",
      "source": [],
      "metadata": {
        "id": "Jt8Mq1ri3WP7"
      },
      "execution_count": null,
      "outputs": []
    }
  ]
}